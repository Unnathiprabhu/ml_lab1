{
 "cells": [
  {
   "cell_type": "code",
   "execution_count": 2,
   "id": "d12b8a45-ec0e-4233-ae86-59c28a2a576f",
   "metadata": {},
   "outputs": [],
   "source": [
    "def best_first_search(graph,start,goal,heuristic, path=[]):\n",
    "    open_list = [(0,start)]\n",
    "    closed_list = set()\n",
    "    closed_list.add(start)\n",
    "\n",
    "    while open_list:\n",
    "        open_list.sort(key = lambda x: heuristic[x[1]], reverse=True)\n",
    "        cost, node = open_list.pop()\n",
    "        path.append(node)\n",
    "\n",
    "        if node==goal:\n",
    "            return cost, path\n",
    "\n",
    "        closed_list.add(node)\n",
    "        for neighbour, neighbour_cost in graph[node]:\n",
    "            if neighbour not in closed_list:\n",
    "                closed_list.add(node)\n",
    "                open_list.append((cost+neighbour_cost, neighbour))\n",
    "\n",
    "    return None"
   ]
  },
  {
   "cell_type": "code",
   "execution_count": 3,
   "id": "1fbf060e-57f2-4db8-9f94-549cb84fc9fe",
   "metadata": {},
   "outputs": [],
   "source": [
    "graph = {\n",
    "    'A': [('B', 11), ('C', 14), ('D',7)],\n",
    "    'B': [('A', 11), ('E', 15)],\n",
    "    'C': [('A', 14), ('E', 8), ('D',18), ('F',10)],\n",
    "    'D': [('A', 7), ('F', 25), ('C',18)],\n",
    "    'E': [('B', 15), ('C', 8), ('H',9)],\n",
    "    'F': [('G', 20), ('C', 10), ('D',25)],\n",
    "    'G': [],\n",
    "    'H': [('E',9), ('G',10)]\n",
    "}\n",
    "\n",
    "start = 'A'\n",
    "goal = 'G'\n",
    "\n",
    "heuristic = {\n",
    "    'A': 40,\n",
    "    'B': 32,\n",
    "    'C': 25,\n",
    "    'D': 35,\n",
    "    'E': 19,\n",
    "    'F': 17,\n",
    "    'G': 0,\n",
    "    'H': 10\n",
    "}"
   ]
  },
  {
   "cell_type": "code",
   "execution_count": 4,
   "id": "1b0189ab-3009-465e-89c6-20829b729b74",
   "metadata": {},
   "outputs": [
    {
     "name": "stdout",
     "output_type": "stream",
     "text": [
      "Minimum cost path from A to G is ['A', 'C', 'F', 'G']\n",
      "Cost: 44\n"
     ]
    }
   ],
   "source": [
    "result = best_first_search(graph, start, goal, heuristic)\n",
    "\n",
    "if result:\n",
    "    print(f\"Minimum cost path from {start} to {goal} is {result[1]}\")\n",
    "    print(f\"Cost: {result[0]}\")\n",
    "else:\n",
    "    print(f\"No path from {start} to {goal}\")"
   ]
  },
  {
   "cell_type": "code",
   "execution_count": null,
   "id": "77096385-33dc-4d95-9583-e1a594facf36",
   "metadata": {},
   "outputs": [],
   "source": []
  }
 ],
 "metadata": {
  "kernelspec": {
   "display_name": "Python 3 (ipykernel)",
   "language": "python",
   "name": "python3"
  },
  "language_info": {
   "codemirror_mode": {
    "name": "ipython",
    "version": 3
   },
   "file_extension": ".py",
   "mimetype": "text/x-python",
   "name": "python",
   "nbconvert_exporter": "python",
   "pygments_lexer": "ipython3",
   "version": "3.11.7"
  }
 },
 "nbformat": 4,
 "nbformat_minor": 5
}
